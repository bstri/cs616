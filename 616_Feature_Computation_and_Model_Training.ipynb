{
  "nbformat": 4,
  "nbformat_minor": 0,
  "metadata": {
    "colab": {
      "name": "616 Feature Computation and Model Training.ipynb",
      "provenance": [],
      "collapsed_sections": [],
      "machine_shape": "hm"
    },
    "kernelspec": {
      "name": "python3",
      "display_name": "Python 3"
    }
  },
  "cells": [
    {
      "cell_type": "code",
      "metadata": {
        "id": "ISsVvgxoeu3V",
        "colab_type": "code",
        "colab": {
          "base_uri": "https://localhost:8080/",
          "height": 119
        },
        "outputId": "f138a72d-88f9-4cb0-cd62-eaf50afb95f9"
      },
      "source": [
        "!git clone https://github.com/bstri/cs616"
      ],
      "execution_count": 110,
      "outputs": [
        {
          "output_type": "stream",
          "text": [
            "Cloning into 'cs616'...\n",
            "remote: Enumerating objects: 5, done.\u001b[K\n",
            "remote: Counting objects: 100% (5/5), done.\u001b[K\n",
            "remote: Compressing objects: 100% (5/5), done.\u001b[K\n",
            "remote: Total 5 (delta 0), reused 0 (delta 0), pack-reused 0\u001b[K\n",
            "Unpacking objects: 100% (5/5), done.\n"
          ],
          "name": "stdout"
        }
      ]
    },
    {
      "cell_type": "markdown",
      "metadata": {
        "id": "4H5q9dXDSJpr",
        "colab_type": "text"
      },
      "source": [
        "Import and parse API info"
      ]
    },
    {
      "cell_type": "code",
      "metadata": {
        "id": "XHDvqtWNSGOP",
        "colab_type": "code",
        "colab": {}
      },
      "source": [
        "import csv\n",
        "\n",
        "classToAPI = {}\n",
        "shortNameToLong = {}\n",
        "\n",
        "with open('cs616/eclipseAPI.csv') as f:\n",
        "  reader = csv.reader(f, quotechar=\"'\", doublequote=False, skipinitialspace=True, escapechar='\\\\')\n",
        "  for row in reader:\n",
        "    shortName = row[1].split('.')[-1]\n",
        "    if shortName in shortNameToLong:\n",
        "      shortNameToLong[shortName].append(row[1])\n",
        "    else:\n",
        "      shortNameToLong[shortName] = [row[1]]\n",
        "    classToAPI[row[1]] = row[3]"
      ],
      "execution_count": 0,
      "outputs": []
    },
    {
      "cell_type": "markdown",
      "metadata": {
        "id": "GoatztJlpxfs",
        "colab_type": "text"
      },
      "source": [
        "Import and parse bug report info into Pandas DataFrame"
      ]
    },
    {
      "cell_type": "code",
      "metadata": {
        "id": "tvpufEY2Zunf",
        "colab_type": "code",
        "colab": {}
      },
      "source": [
        "import pandas as pd\n",
        "#import xml.etree.ElementTree as ET\n",
        "\n",
        "# This is a one-liner for the record books\n",
        "# brdf = pd.DataFrame([{c.get('name'): ' '.join((c.text or '').split()) for c in el} for el in ET.parse('eclipseBugReports.xml').getroot()[1]])\n",
        "\n",
        "brdf = pd.read_csv('cs616/updated_brdf.csv')"
      ],
      "execution_count": 0,
      "outputs": []
    },
    {
      "cell_type": "markdown",
      "metadata": {
        "id": "6da-RovEEcv4",
        "colab_type": "text"
      },
      "source": [
        "Define functions for feature computation"
      ]
    },
    {
      "cell_type": "code",
      "metadata": {
        "id": "4JnVrlC2Fwvx",
        "colab_type": "code",
        "colab": {}
      },
      "source": [
        "from scipy.spatial.distance import cosine\n",
        "import math\n",
        "import numpy as np\n",
        "import pickle\n",
        "from IPython.core.debugger import set_trace\n",
        "\n",
        "class FeatureComputer:\n",
        "    def __init__(self, brdf):\n",
        "        self.brdf = brdf.sort_values('commit_timestamp', ascending=False)\n",
        "        self.relevantFiles = brdf.files.str.extractall(r\"([^ ][\\w ./]+?\\.java)\") # remove the '/' if you just want the file name, and not the full path\n",
        "        self.processedBugReports = []\n",
        "\n",
        "    def computeFeatures(self, brIndex, br, src):\n",
        "        pastBR = self.pastBR(brIndex, src[0])\n",
        "        return dict(similarity=self.sim(br[2], src[2]),\n",
        "                    tsssSimilarity=self.sim(br[2], src[2], method='tsss'),\n",
        "                    collaborativeFiltering=self.collaborativeFiltering(brIndex, pastBR),\n",
        "                    classNameSimilarity=self.classNameSim(br, src),\n",
        "                    bugFixingRecency=self.bugFixingRecency(brIndex, pastBR),\n",
        "                    bugFixingFrequency=pastBR.shape[0] # problem: as time goes on, files may continue to be fixed, so maybe a density metric would be better\n",
        "                    )\n",
        "\n",
        "    def sim(self, r, s, method='cos'): # r and s should be numpy arrays\n",
        "        r = r.astype('float64')\n",
        "        s = s.astype('float64')\n",
        "        cos = cosine(r,s)\n",
        "        if cos < 0:\n",
        "            set_trace()\n",
        "        if method == 'cos':\n",
        "            return cos\n",
        "        elif method == 'tsss':\n",
        "            theta = math.acos(cos) + 0.17 # authors suggest this 10-degree adjustment\n",
        "            rMag = (r**2).sum()**.5 # for some reason this is faster than np.linalg.norm\n",
        "            sMag = (s**2).sum()**.5\n",
        "            TS = rMag * sMag * math.sin(theta) / 2\n",
        "            MD = abs(rMag - sMag)\n",
        "            ED = ((r-s)**2).sum()**.5\n",
        "            SS = (MD + ED)**2 * theta/2\n",
        "            return TS*SS\n",
        "        else:\n",
        "            raise ValueError\n",
        "\n",
        "    def getVectorFromBugReportIndex(self, rIndex):\n",
        "        return self.processedBugReports[self.brdf.shape[0] - 1 - rIndex][2]\n",
        "\n",
        "    def apiEnrich(self, s):\n",
        "        pass\n",
        "\n",
        "    def classNameSim(self, br, src):\n",
        "        cName = src[3].rpartition('/')[-1]\n",
        "        return len(cName) if cName in br[3] else 0        \n",
        "\n",
        "    # returns np array of bug report indices\n",
        "    def pastBR(self, rIndex, srcName):\n",
        "        # grab all bug reports for which s was fixed before r was reported\n",
        "        # reports are already sorted by commit timestamp (descending), so this line will get all bug reports submitted before this one\n",
        "        br = self.relevantFiles.loc[rIndex+1:][self.relevantFiles.loc[rIndex+1:][0] == srcName].index.get_level_values(0).to_numpy()\n",
        "        mask = []\n",
        "        for i in range(br.shape[0]): # here we only get the ones that were fixed before this one was reported\n",
        "            mask.append(self.brdf.at[br[i], 'commit_timestamp'] <= self.brdf.at[rIndex, 'report_timestamp'])\n",
        "        return br[mask]\n",
        "\n",
        "    def bugFixingRecency(self, rIndex, br): \n",
        "        if br.shape[0] == 0:\n",
        "            return 0\n",
        "        mostRecent = br[0]\n",
        "        # I think the paper truncates month so an integer is used, but I'd like to try this way\n",
        "        monthDur = (self.brdf.at[rIndex, 'report_timestamp'] - self.brdf.at[mostRecent, 'commit_timestamp'])/60/60/24/30\n",
        "        return 1/(monthDur+1)\n",
        "\n",
        "    def collaborativeFiltering(self, rIndex, br):\n",
        "        # combine all bug reports in br by summing their vector representations\n",
        "        if br.shape[0] == 0: \n",
        "            return 0\n",
        "        combined = self.getVectorFromBugReportIndex(br[0])\n",
        "        for i in range(1,br.shape[0]):\n",
        "            combined += self.getVectorFromBugReportIndex(br[i])\n",
        "        return self.sim(self.getVectorFromBugReportIndex(rIndex), combined)\n",
        "\n",
        "    def createTrainingData(self, numReportsProcessed = 250):\n",
        "        indices = []\n",
        "        rows = []\n",
        "        label = 'relevancy'\n",
        "        for i in range(brdf.shape[0] - 1, brdf.shape[0] - 1 - numReportsProcessed, -1):\n",
        "            if i%10 == 0:\n",
        "                print('processing bug report', i)\n",
        "            irrelevantFiles = []\n",
        "            with open(\"drive/My Drive/Colab Files/{}.pickle\".format(i), 'rb') as f:\n",
        "                processedCommit = pickle.load(f, encoding='utf-8')\n",
        "            br = processedCommit[1][0]\n",
        "            self.processedBugReports.append(br)\n",
        "            for j, src in enumerate(processedCommit[1][1:]):\n",
        "                features = self.computeFeatures(i, br, src) # dict of feat_name -> val\n",
        "                if src[0] in self.relevantFiles.loc[(i,),0].values:\n",
        "                    features[label] = 1\n",
        "                    # rows.append(features)\n",
        "                    # indices.append((i,src[0]))\n",
        "                else:\n",
        "                    features[label] = 0\n",
        "                rows.append(features)\n",
        "                indices.append((i,src[0]))\n",
        "                # else:\n",
        "                #     irrelevantFiles.append((j+1,self.sim(br[2],src[2])))\n",
        "            \n",
        "            # irrelevantFiles.sort(key=lambda t: t[1], reverse=True) # sort irrelevant files by inc. similarity \n",
        "            # # but will that produce irrelevant files with higher similarities than relevant?\n",
        "            # # something to check. If so, perhaps just randomly pick?\n",
        "            # for j in range(numIrrelevantFiles):\n",
        "            #     indexInCommit = irrelevantFiles[j][0]\n",
        "            #     src = processedCommit[1][indexInCommit]\n",
        "            #     features = self.computeFeatures(i, br, src)\n",
        "            #     features[label] = 0\n",
        "            #     rows.append(features)\n",
        "            #     indices.append((i,src[0]))\n",
        "\n",
        "        trainingData = pd.DataFrame(data=rows, index=pd.MultiIndex.from_tuples(indices))\n",
        "\n",
        "        return trainingData"
      ],
      "execution_count": 0,
      "outputs": []
    },
    {
      "cell_type": "markdown",
      "metadata": {
        "id": "cSKg0EUlHB1h",
        "colab_type": "text"
      },
      "source": [
        "# Make training data"
      ]
    },
    {
      "cell_type": "code",
      "metadata": {
        "id": "5P_YR7Im024i",
        "colab_type": "code",
        "colab": {
          "base_uri": "https://localhost:8080/",
          "height": 34
        },
        "outputId": "45de7ca6-4ea5-400e-e92e-d049fd1c4314"
      },
      "source": [
        "# from google.colab import drive\n",
        "# drive.mount('/content/drive')"
      ],
      "execution_count": 13,
      "outputs": [
        {
          "output_type": "stream",
          "text": [
            "Drive already mounted at /content/drive; to attempt to forcibly remount, call drive.mount(\"/content/drive\", force_remount=True).\n"
          ],
          "name": "stdout"
        }
      ]
    },
    {
      "cell_type": "code",
      "metadata": {
        "id": "GdO7tlQNh1RZ",
        "colab_type": "code",
        "colab": {
          "base_uri": "https://localhost:8080/",
          "height": 442
        },
        "outputId": "dded08aa-ebd2-4eec-ad84-43b0c8359136"
      },
      "source": [
        "# fc = FeatureComputer(brdf)\n",
        "# trainingData = fc.createTrainingData(numReportsProcessed=250)\n",
        "# trainingData.to_csv('trainingData250.csv')"
      ],
      "execution_count": 16,
      "outputs": [
        {
          "output_type": "stream",
          "text": [
            "processing bug report 6490\n",
            "processing bug report 6480\n",
            "processing bug report 6470\n",
            "processing bug report 6460\n",
            "processing bug report 6450\n",
            "processing bug report 6440\n",
            "processing bug report 6430\n",
            "processing bug report 6420\n",
            "processing bug report 6410\n",
            "processing bug report 6400\n",
            "processing bug report 6390\n",
            "processing bug report 6380\n",
            "processing bug report 6370\n",
            "processing bug report 6360\n",
            "processing bug report 6350\n",
            "processing bug report 6340\n",
            "processing bug report 6330\n",
            "processing bug report 6320\n",
            "processing bug report 6310\n",
            "processing bug report 6300\n",
            "processing bug report 6290\n",
            "processing bug report 6280\n",
            "processing bug report 6270\n",
            "processing bug report 6260\n",
            "processing bug report 6250\n"
          ],
          "name": "stdout"
        }
      ]
    },
    {
      "cell_type": "markdown",
      "metadata": {
        "id": "SIwGtMWHEhMr",
        "colab_type": "text"
      },
      "source": [
        "# Define machine learning model"
      ]
    },
    {
      "cell_type": "code",
      "metadata": {
        "id": "DnB-x0_fEoVQ",
        "colab_type": "code",
        "colab": {}
      },
      "source": [
        "import tensorflow as tf\n",
        "from tensorflow.keras import layers\n",
        "\n",
        "def makeModel(numFeatures):\n",
        "    model = tf.keras.Sequential()\n",
        "    model.add(layers.Dense(10, input_shape=(numFeatures,), activation='relu'))\n",
        "    model.add(layers.BatchNormalization())\n",
        "    model.add(layers.LeakyReLU())\n",
        "    model.add(layers.Dense(10, activation='relu'))\n",
        "    model.add(layers.BatchNormalization())\n",
        "    model.add(layers.LeakyReLU())\n",
        "    model.add(layers.Dense(1, activation='linear'))\n",
        "    # model.add(layers.Dense(1, activation='sigmoid'))\n",
        "\n",
        "    return model"
      ],
      "execution_count": 0,
      "outputs": []
    },
    {
      "cell_type": "markdown",
      "metadata": {
        "id": "1tCdlxQPEpUt",
        "colab_type": "text"
      },
      "source": [
        "# Train model"
      ]
    },
    {
      "cell_type": "code",
      "metadata": {
        "id": "9rUGmCpSjvTk",
        "colab_type": "code",
        "colab": {}
      },
      "source": [
        "trainingData = pd.read_csv('cs616/trainingData250.csv', index_col=[0,1])\n",
        "trainingData.index.set_names(['br', 'src'], inplace=True)"
      ],
      "execution_count": 0,
      "outputs": []
    },
    {
      "cell_type": "code",
      "metadata": {
        "id": "f26Tw6lw9fYe",
        "colab_type": "code",
        "colab": {}
      },
      "source": [
        "relevantMask = trainingData['relevancy'] == 1\n",
        "relevants = trainingData[relevantMask]\n",
        "irrelevants = trainingData[~relevantMask].sort_values(['br','similarity'], ascending=False)"
      ],
      "execution_count": 0,
      "outputs": []
    },
    {
      "cell_type": "code",
      "metadata": {
        "id": "0I2z_qycAEYI",
        "colab_type": "code",
        "colab": {
          "base_uri": "https://localhost:8080/",
          "height": 34
        },
        "outputId": "60d56c3a-0d35-48a7-a68b-a5a638d78b6e"
      },
      "source": [
        "relevants.shape"
      ],
      "execution_count": 158,
      "outputs": [
        {
          "output_type": "execute_result",
          "data": {
            "text/plain": [
              "(440, 7)"
            ]
          },
          "metadata": {
            "tags": []
          },
          "execution_count": 158
        }
      ]
    },
    {
      "cell_type": "code",
      "metadata": {
        "id": "zfxDHcOtAGsK",
        "colab_type": "code",
        "colab": {
          "base_uri": "https://localhost:8080/",
          "height": 34
        },
        "outputId": "70aceea8-2ec5-45bc-9b03-907154b4f475"
      },
      "source": [
        "irrelevants.shape"
      ],
      "execution_count": 159,
      "outputs": [
        {
          "output_type": "execute_result",
          "data": {
            "text/plain": [
              "(297610, 7)"
            ]
          },
          "metadata": {
            "tags": []
          },
          "execution_count": 159
        }
      ]
    },
    {
      "cell_type": "code",
      "metadata": {
        "id": "0ca2IbztDf09",
        "colab_type": "code",
        "colab": {
          "base_uri": "https://localhost:8080/",
          "height": 34
        },
        "outputId": "f8a2a203-f595-4b77-be26-4a5d56ebfc33"
      },
      "source": [
        "# grab top 300 irrelevant files per bug report\n",
        "partialTrainingData = pd.concat([relevants, irrelevants.groupby(level=0).head(300)])\n",
        "partialTrainingData.pop('classNameSimilarity')\n",
        "# partialTrainingData = (partialTrainingData - partialTrainingData.min())/(partialTrainingData.max() - partialTrainingData.min())\n",
        "# validation = partialTrainingData.drop(df.index())\n",
        "# yTrain = partialTrainingData.pop('relevancy')\n",
        "partialTrainingData.shape"
      ],
      "execution_count": 197,
      "outputs": [
        {
          "output_type": "execute_result",
          "data": {
            "text/plain": [
              "(75440, 6)"
            ]
          },
          "metadata": {
            "tags": []
          },
          "execution_count": 197
        }
      ]
    },
    {
      "cell_type": "code",
      "metadata": {
        "id": "vTUjKXkd3C0U",
        "colab_type": "code",
        "colab": {
          "base_uri": "https://localhost:8080/",
          "height": 88
        },
        "outputId": "57106af7-3ff1-4130-9e0f-f8d9f6a32aca"
      },
      "source": [
        "validationSize = 25\n",
        "rnd = np.random.choice(partialTrainingData.index.get_level_values(0), size=validationSize, replace=False)\n",
        "\n",
        "XValidation = partialTrainingData.loc[rnd]\n",
        "yValidation = XValidation.pop('relevancy')\n",
        "XValidation = (XValidation - XValidation.min())/(XValidation.max() - XValidation.min())\n",
        "\n",
        "XTrain = partialTrainingData.drop(rnd)\n",
        "yTrain = XTrain.pop('relevancy')\n",
        "XTrain = (XTrain - XTrain.min())/(XTrain.max() - XTrain.min())\n",
        "\n",
        "print(XValidation.shape, XTrain.shape)"
      ],
      "execution_count": 198,
      "outputs": [
        {
          "output_type": "stream",
          "text": [
            "/usr/local/lib/python3.6/dist-packages/pandas/core/generic.py:3936: PerformanceWarning: dropping on a non-lexsorted multi-index without a level parameter may impact performance.\n",
            "  obj = obj._drop_axis(labels, axis, level=level, errors=errors)\n"
          ],
          "name": "stderr"
        },
        {
          "output_type": "stream",
          "text": [
            "(7558, 5) (67882, 5)\n"
          ],
          "name": "stdout"
        }
      ]
    },
    {
      "cell_type": "code",
      "metadata": {
        "id": "IKH5cDJ7ePKa",
        "colab_type": "code",
        "colab": {
          "base_uri": "https://localhost:8080/",
          "height": 1000
        },
        "outputId": "d50bd9f1-be88-48ec-8f7d-cf2baf161352"
      },
      "source": [
        "model = makeModel(XTrain.shape[1])\n",
        "# model.compile(optimizer='Adam', metrics=['accuracy'], loss=custom_loss(recall_weight=0.9, spec_weight=0.1))\n",
        "opt = tf.keras.optimizers.Adam(learning_rate=.0001)\n",
        "model.compile(optimizer=opt, loss=tf.keras.losses.MeanSquaredError())\n",
        "# model.compile(optimizer=opt, metrics=['accuracy'], loss=tf.keras.losses.BinaryCrossentropy(label_smoothing=.2))\n",
        "model.fit(XTrain.values, yTrain.values, batch_size = 50, epochs=50)"
      ],
      "execution_count": 199,
      "outputs": [
        {
          "output_type": "stream",
          "text": [
            "Epoch 1/50\n",
            "1358/1358 [==============================] - 2s 2ms/step - loss: 0.1246\n",
            "Epoch 2/50\n",
            "1358/1358 [==============================] - 2s 2ms/step - loss: 0.0372\n",
            "Epoch 3/50\n",
            "1358/1358 [==============================] - 2s 2ms/step - loss: 0.0209\n",
            "Epoch 4/50\n",
            "1358/1358 [==============================] - 2s 2ms/step - loss: 0.0131\n",
            "Epoch 5/50\n",
            "1358/1358 [==============================] - 2s 2ms/step - loss: 0.0091\n",
            "Epoch 6/50\n",
            "1358/1358 [==============================] - 2s 2ms/step - loss: 0.0066\n",
            "Epoch 7/50\n",
            "1358/1358 [==============================] - 2s 2ms/step - loss: 0.0059\n",
            "Epoch 8/50\n",
            "1358/1358 [==============================] - 2s 2ms/step - loss: 0.0047\n",
            "Epoch 9/50\n",
            "1358/1358 [==============================] - 2s 2ms/step - loss: 0.0042\n",
            "Epoch 10/50\n",
            "1358/1358 [==============================] - 2s 2ms/step - loss: 0.0039\n",
            "Epoch 11/50\n",
            "1358/1358 [==============================] - 2s 2ms/step - loss: 0.0038\n",
            "Epoch 12/50\n",
            "1358/1358 [==============================] - 2s 2ms/step - loss: 0.0036\n",
            "Epoch 13/50\n",
            "1358/1358 [==============================] - 2s 2ms/step - loss: 0.0034\n",
            "Epoch 14/50\n",
            "1358/1358 [==============================] - 2s 2ms/step - loss: 0.0034\n",
            "Epoch 15/50\n",
            "1358/1358 [==============================] - 2s 2ms/step - loss: 0.0032\n",
            "Epoch 16/50\n",
            "1358/1358 [==============================] - 2s 2ms/step - loss: 0.0031\n",
            "Epoch 17/50\n",
            "1358/1358 [==============================] - 2s 2ms/step - loss: 0.0031\n",
            "Epoch 18/50\n",
            "1358/1358 [==============================] - 2s 2ms/step - loss: 0.0030\n",
            "Epoch 19/50\n",
            "1358/1358 [==============================] - 2s 2ms/step - loss: 0.0029\n",
            "Epoch 20/50\n",
            "1358/1358 [==============================] - 2s 2ms/step - loss: 0.0030\n",
            "Epoch 21/50\n",
            "1358/1358 [==============================] - 2s 2ms/step - loss: 0.0030\n",
            "Epoch 22/50\n",
            "1358/1358 [==============================] - 2s 2ms/step - loss: 0.0028\n",
            "Epoch 23/50\n",
            "1358/1358 [==============================] - 2s 2ms/step - loss: 0.0028\n",
            "Epoch 24/50\n",
            "1358/1358 [==============================] - 2s 2ms/step - loss: 0.0029\n",
            "Epoch 25/50\n",
            "1358/1358 [==============================] - 2s 2ms/step - loss: 0.0028\n",
            "Epoch 26/50\n",
            "1358/1358 [==============================] - 2s 2ms/step - loss: 0.0028\n",
            "Epoch 27/50\n",
            "1358/1358 [==============================] - 2s 2ms/step - loss: 0.0027\n",
            "Epoch 28/50\n",
            "1358/1358 [==============================] - 2s 2ms/step - loss: 0.0026\n",
            "Epoch 29/50\n",
            "1358/1358 [==============================] - 2s 2ms/step - loss: 0.0028\n",
            "Epoch 30/50\n",
            "1358/1358 [==============================] - 2s 2ms/step - loss: 0.0027\n",
            "Epoch 31/50\n",
            "1358/1358 [==============================] - 2s 2ms/step - loss: 0.0026\n",
            "Epoch 32/50\n",
            "1358/1358 [==============================] - 2s 2ms/step - loss: 0.0026\n",
            "Epoch 33/50\n",
            "1358/1358 [==============================] - 2s 2ms/step - loss: 0.0026\n",
            "Epoch 34/50\n",
            "1358/1358 [==============================] - 2s 2ms/step - loss: 0.0026\n",
            "Epoch 35/50\n",
            "1358/1358 [==============================] - 2s 2ms/step - loss: 0.0025\n",
            "Epoch 36/50\n",
            "1358/1358 [==============================] - 2s 2ms/step - loss: 0.0026\n",
            "Epoch 37/50\n",
            "1358/1358 [==============================] - 2s 2ms/step - loss: 0.0025\n",
            "Epoch 38/50\n",
            "1358/1358 [==============================] - 2s 2ms/step - loss: 0.0026\n",
            "Epoch 39/50\n",
            "1358/1358 [==============================] - 2s 2ms/step - loss: 0.0025\n",
            "Epoch 40/50\n",
            "1358/1358 [==============================] - 2s 2ms/step - loss: 0.0026\n",
            "Epoch 41/50\n",
            "1358/1358 [==============================] - 2s 2ms/step - loss: 0.0025\n",
            "Epoch 42/50\n",
            "1358/1358 [==============================] - 2s 2ms/step - loss: 0.0025\n",
            "Epoch 43/50\n",
            "1358/1358 [==============================] - 2s 2ms/step - loss: 0.0025\n",
            "Epoch 44/50\n",
            "1358/1358 [==============================] - 2s 2ms/step - loss: 0.0025\n",
            "Epoch 45/50\n",
            "1358/1358 [==============================] - 2s 2ms/step - loss: 0.0025\n",
            "Epoch 46/50\n",
            "1358/1358 [==============================] - 2s 2ms/step - loss: 0.0026\n",
            "Epoch 47/50\n",
            "1358/1358 [==============================] - 2s 2ms/step - loss: 0.0024\n",
            "Epoch 48/50\n",
            "1358/1358 [==============================] - 2s 2ms/step - loss: 0.0025\n",
            "Epoch 49/50\n",
            "1358/1358 [==============================] - 2s 2ms/step - loss: 0.0024\n",
            "Epoch 50/50\n",
            "1358/1358 [==============================] - 2s 2ms/step - loss: 0.0024\n"
          ],
          "name": "stdout"
        },
        {
          "output_type": "execute_result",
          "data": {
            "text/plain": [
              "<tensorflow.python.keras.callbacks.History at 0x7efe1d5784a8>"
            ]
          },
          "metadata": {
            "tags": []
          },
          "execution_count": 199
        }
      ]
    },
    {
      "cell_type": "markdown",
      "metadata": {
        "id": "FwgC64bre39t",
        "colab_type": "text"
      },
      "source": [
        "# Evaluate Model"
      ]
    },
    {
      "cell_type": "code",
      "metadata": {
        "id": "uUVI_yFgb52O",
        "colab_type": "code",
        "colab": {}
      },
      "source": [
        "# from IPython.core.debugger import set_trace\n",
        "def getRelevantFileRankings(brIndex):\n",
        "    # set_trace()\n",
        "    testBr = trainingData.loc[brIndex]\n",
        "    yTest = testBr.pop('relevancy')\n",
        "    testBr.pop('classNameSimilarity')\n",
        "    pred = model(testBr.values, training=False)\n",
        "    n = pred.numpy()\n",
        "    comb = np.column_stack((n.reshape((-1,)), yTest.values))\n",
        "    s = comb[comb[:,0].argsort()][::-1]\n",
        "    # s = np.sort(comb, axis=0)[::-1]\n",
        "    return np.argwhere(s[:,1] == 1).reshape((-1,))"
      ],
      "execution_count": 0,
      "outputs": []
    },
    {
      "cell_type": "code",
      "metadata": {
        "id": "5Fs7Uh_oyfoQ",
        "colab_type": "code",
        "colab": {}
      },
      "source": [
        "def meanReciprocalRank(rankings):\n",
        "    rankSum = 0\n",
        "    for r in rankings:\n",
        "        rankSum += 1/(r[0]+1)\n",
        "    return rankSum/len(rankings)\n",
        "\n",
        "def meanAvgPrecision(rankings, k):\n",
        "    sumAvgPrec = 0\n",
        "    for r in rankings:\n",
        "        sumAvgPrec += (r[r < k].shape[0])/r.shape[0]\n",
        "    return sumAvgPrec/len(rankings)\n",
        "\n",
        "def accuracy(rankings, k):\n",
        "    count = 0\n",
        "    for r in rankings:\n",
        "        if (r < k).sum() >= 1:\n",
        "            count += 1\n",
        "    return count/len(rankings)"
      ],
      "execution_count": 0,
      "outputs": []
    },
    {
      "cell_type": "code",
      "metadata": {
        "id": "13rAiWUCxj6m",
        "colab_type": "code",
        "colab": {}
      },
      "source": [
        "brFileRankings = []\n",
        "for i in range(brdf.shape[0] - 1, brdf.shape[0] - 1 - 250, -1):\n",
        "    brFileRankings.append(getRelevantFileRankings(i))\n",
        "\n",
        "validationFileRankings = []\n",
        "for i in range(validationSize):\n",
        "    validationFileRankings.append(getRelevantFileRankings(rnd[i]))"
      ],
      "execution_count": 0,
      "outputs": []
    },
    {
      "cell_type": "code",
      "metadata": {
        "id": "nTpL7w3i8NiU",
        "colab_type": "code",
        "colab": {
          "base_uri": "https://localhost:8080/",
          "height": 221
        },
        "outputId": "f41d9de2-c04d-49aa-fa07-8a5d9b138235"
      },
      "source": [
        "print('MRR on all processed bug reports:', meanReciprocalRank(brFileRankings))\n",
        "print('MAP@20:', meanAvgPrecision(brFileRankings, 20))\n",
        "print('MAP@10:', meanAvgPrecision(brFileRankings, 10))\n",
        "print('MAP@5:', meanAvgPrecision(brFileRankings, 5))\n",
        "print('Acc@10:', accuracy(brFileRankings, 10))\n",
        "print('Acc@20:', accuracy(brFileRankings, 20))\n",
        "\n",
        "print('MRR on 25 withheld bug reports:', meanReciprocalRank(validationFileRankings))\n",
        "print('MAP@20:', meanAvgPrecision(validationFileRankings, 20))\n",
        "print('MAP@10:', meanAvgPrecision(validationFileRankings, 10))\n",
        "print('MAP@5:', meanAvgPrecision(validationFileRankings, 5))\n",
        "print('Acc@10:', accuracy(validationFileRankings, 10))\n",
        "print('Acc@20:', accuracy(validationFileRankings, 20))"
      ],
      "execution_count": 201,
      "outputs": [
        {
          "output_type": "stream",
          "text": [
            "MRR on all processed bug reports: 0.08022405381432912\n",
            "MAP@20: 0.19604126984126985\n",
            "MAP@10: 0.14809841269841265\n",
            "MAP@5: 0.10179365079365078\n",
            "Acc@10: 0.208\n",
            "Acc@20: 0.264\n",
            "MRR on 25 withheld bug reports: 0.10140956412588333\n",
            "MAP@20: 0.21733333333333335\n",
            "MAP@10: 0.17733333333333334\n",
            "MAP@5: 0.11333333333333334\n",
            "Acc@10: 0.24\n",
            "Acc@20: 0.28\n"
          ],
          "name": "stdout"
        }
      ]
    },
    {
      "cell_type": "code",
      "metadata": {
        "id": "JcVgX4U683OX",
        "colab_type": "code",
        "colab": {
          "base_uri": "https://localhost:8080/",
          "height": 442
        },
        "outputId": "9ab40f0c-095c-4277-cc86-6954b4a5bad1"
      },
      "source": [
        "validationFileRankings"
      ],
      "execution_count": 196,
      "outputs": [
        {
          "output_type": "execute_result",
          "data": {
            "text/plain": [
              "[array([  6,  52, 197]),\n",
              " array([117]),\n",
              " array([157, 246]),\n",
              " array([117]),\n",
              " array([27]),\n",
              " array([61]),\n",
              " array([25]),\n",
              " array([  8, 309, 359]),\n",
              " array([1116]),\n",
              " array([5]),\n",
              " array([  3, 549]),\n",
              " array([3]),\n",
              " array([ 5, 32, 83]),\n",
              " array([474]),\n",
              " array([223]),\n",
              " array([ 78, 595]),\n",
              " array([29]),\n",
              " array([46]),\n",
              " array([458]),\n",
              " array([18]),\n",
              " array([  2,   3,  30,  49,  57,  93, 115, 118, 187]),\n",
              " array([ 7,  9, 53]),\n",
              " array([1116]),\n",
              " array([ 21, 384, 441, 442]),\n",
              " array([149])]"
            ]
          },
          "metadata": {
            "tags": []
          },
          "execution_count": 196
        }
      ]
    },
    {
      "cell_type": "code",
      "metadata": {
        "id": "lzbIVD80g2A2",
        "colab_type": "code",
        "colab": {}
      },
      "source": [
        "model.save('reg3Model.h5')"
      ],
      "execution_count": 0,
      "outputs": []
    },
    {
      "cell_type": "code",
      "metadata": {
        "id": "ShZm_SGu9-g-",
        "colab_type": "code",
        "colab": {
          "base_uri": "https://localhost:8080/",
          "height": 391
        },
        "outputId": "bce1b56e-e13c-45fb-e997-419df52b4e51"
      },
      "source": [
        "model.summary()"
      ],
      "execution_count": 203,
      "outputs": [
        {
          "output_type": "stream",
          "text": [
            "Model: \"sequential_16\"\n",
            "_________________________________________________________________\n",
            "Layer (type)                 Output Shape              Param #   \n",
            "=================================================================\n",
            "dense_48 (Dense)             (None, 10)                60        \n",
            "_________________________________________________________________\n",
            "batch_normalization_20 (Batc (None, 10)                40        \n",
            "_________________________________________________________________\n",
            "leaky_re_lu_20 (LeakyReLU)   (None, 10)                0         \n",
            "_________________________________________________________________\n",
            "dense_49 (Dense)             (None, 10)                110       \n",
            "_________________________________________________________________\n",
            "batch_normalization_21 (Batc (None, 10)                40        \n",
            "_________________________________________________________________\n",
            "leaky_re_lu_21 (LeakyReLU)   (None, 10)                0         \n",
            "_________________________________________________________________\n",
            "dense_50 (Dense)             (None, 1)                 11        \n",
            "=================================================================\n",
            "Total params: 261\n",
            "Trainable params: 221\n",
            "Non-trainable params: 40\n",
            "_________________________________________________________________\n"
          ],
          "name": "stdout"
        }
      ]
    },
    {
      "cell_type": "markdown",
      "metadata": {
        "id": "4r78SpgJDfRc",
        "colab_type": "text"
      },
      "source": [
        "# Java parsing experimentation"
      ]
    },
    {
      "cell_type": "code",
      "metadata": {
        "id": "glKlifBMEq5g",
        "colab_type": "code",
        "colab": {
          "base_uri": "https://localhost:8080/",
          "height": 122
        },
        "outputId": "c9180000-bfb3-472c-f984-123f51e36c62"
      },
      "source": [
        "# !pip install javalang"
      ],
      "execution_count": 1,
      "outputs": [
        {
          "output_type": "stream",
          "text": [
            "Collecting javalang\n",
            "  Downloading https://files.pythonhosted.org/packages/cb/e0/12344443d66b9a84844171be90112892a371da6db09866741774b8bc0a2f/javalang-0.13.0-py3-none-any.whl\n",
            "Requirement already satisfied: six in /usr/local/lib/python3.6/dist-packages (from javalang) (1.12.0)\n",
            "Installing collected packages: javalang\n",
            "Successfully installed javalang-0.13.0\n"
          ],
          "name": "stdout"
        }
      ]
    },
    {
      "cell_type": "code",
      "metadata": {
        "id": "PFkq0zgm2IS2",
        "colab_type": "code",
        "colab": {}
      },
      "source": [
        "# import javalang\n",
        "# with open('sample.java') as f:\n",
        "#     j = f.read()\n",
        "# tree = javalang.parse.parse(j)"
      ],
      "execution_count": 0,
      "outputs": []
    },
    {
      "cell_type": "code",
      "metadata": {
        "id": "dyml0J-o4wAs",
        "colab_type": "code",
        "colab": {
          "base_uri": "https://localhost:8080/",
          "height": 340
        },
        "outputId": "b6130dc6-374d-4a9b-f462-54d995a572b5"
      },
      "source": [
        "# with open('sample.java') as f:    \n",
        "#     lines = f.readlines()\n",
        "\n",
        "# # javalang.parse.parse_type(lines[35].strip())\n",
        "# javalang.parse.parse_type('private ITextStore i = 4;')"
      ],
      "execution_count": 42,
      "outputs": [
        {
          "output_type": "error",
          "ename": "JavaSyntaxError",
          "evalue": "ignored",
          "traceback": [
            "\u001b[0;31m---------------------------------------------------------------------------\u001b[0m",
            "\u001b[0;31mJavaSyntaxError\u001b[0m                           Traceback (most recent call last)",
            "\u001b[0;32m<ipython-input-42-ad388e0f8886>\u001b[0m in \u001b[0;36m<module>\u001b[0;34m()\u001b[0m\n\u001b[1;32m      3\u001b[0m \u001b[0;34m\u001b[0m\u001b[0m\n\u001b[1;32m      4\u001b[0m \u001b[0;31m# javalang.parse.parse_type(lines[35].strip())\u001b[0m\u001b[0;34m\u001b[0m\u001b[0;34m\u001b[0m\u001b[0;34m\u001b[0m\u001b[0m\n\u001b[0;32m----> 5\u001b[0;31m \u001b[0mjavalang\u001b[0m\u001b[0;34m.\u001b[0m\u001b[0mparse\u001b[0m\u001b[0;34m.\u001b[0m\u001b[0mparse_type\u001b[0m\u001b[0;34m(\u001b[0m\u001b[0;34m'private ITextStore i = 4;'\u001b[0m\u001b[0;34m)\u001b[0m\u001b[0;34m\u001b[0m\u001b[0;34m\u001b[0m\u001b[0m\n\u001b[0m",
            "\u001b[0;32m/usr/local/lib/python3.6/dist-packages/javalang/parse.py\u001b[0m in \u001b[0;36mparse_type\u001b[0;34m(s)\u001b[0m\n\u001b[1;32m     36\u001b[0m     \u001b[0mparser\u001b[0m \u001b[0;34m=\u001b[0m \u001b[0mParser\u001b[0m\u001b[0;34m(\u001b[0m\u001b[0mtokens\u001b[0m\u001b[0;34m)\u001b[0m\u001b[0;34m\u001b[0m\u001b[0;34m\u001b[0m\u001b[0m\n\u001b[1;32m     37\u001b[0m \u001b[0;34m\u001b[0m\u001b[0m\n\u001b[0;32m---> 38\u001b[0;31m     \u001b[0;32mreturn\u001b[0m \u001b[0mparser\u001b[0m\u001b[0;34m.\u001b[0m\u001b[0mparse_type\u001b[0m\u001b[0;34m(\u001b[0m\u001b[0;34m)\u001b[0m\u001b[0;34m\u001b[0m\u001b[0;34m\u001b[0m\u001b[0m\n\u001b[0m\u001b[1;32m     39\u001b[0m \u001b[0;34m\u001b[0m\u001b[0m\n\u001b[1;32m     40\u001b[0m \u001b[0;32mdef\u001b[0m \u001b[0mparse_type_signature\u001b[0m\u001b[0;34m(\u001b[0m\u001b[0msig\u001b[0m\u001b[0;34m)\u001b[0m\u001b[0;34m:\u001b[0m\u001b[0;34m\u001b[0m\u001b[0;34m\u001b[0m\u001b[0m\n",
            "\u001b[0;32m/usr/local/lib/python3.6/dist-packages/javalang/parser.py\u001b[0m in \u001b[0;36mparse_type\u001b[0;34m(self)\u001b[0m\n\u001b[1;32m    466\u001b[0m             \u001b[0mjava_type\u001b[0m \u001b[0;34m=\u001b[0m \u001b[0mself\u001b[0m\u001b[0;34m.\u001b[0m\u001b[0mparse_reference_type\u001b[0m\u001b[0;34m(\u001b[0m\u001b[0;34m)\u001b[0m\u001b[0;34m\u001b[0m\u001b[0;34m\u001b[0m\u001b[0m\n\u001b[1;32m    467\u001b[0m         \u001b[0;32melse\u001b[0m\u001b[0;34m:\u001b[0m\u001b[0;34m\u001b[0m\u001b[0;34m\u001b[0m\u001b[0m\n\u001b[0;32m--> 468\u001b[0;31m             \u001b[0mself\u001b[0m\u001b[0;34m.\u001b[0m\u001b[0millegal\u001b[0m\u001b[0;34m(\u001b[0m\u001b[0;34m\"Expected type\"\u001b[0m\u001b[0;34m)\u001b[0m\u001b[0;34m\u001b[0m\u001b[0;34m\u001b[0m\u001b[0m\n\u001b[0m\u001b[1;32m    469\u001b[0m \u001b[0;34m\u001b[0m\u001b[0m\n\u001b[1;32m    470\u001b[0m         \u001b[0mjava_type\u001b[0m\u001b[0;34m.\u001b[0m\u001b[0mdimensions\u001b[0m \u001b[0;34m=\u001b[0m \u001b[0mself\u001b[0m\u001b[0;34m.\u001b[0m\u001b[0mparse_array_dimension\u001b[0m\u001b[0;34m(\u001b[0m\u001b[0;34m)\u001b[0m\u001b[0;34m\u001b[0m\u001b[0;34m\u001b[0m\u001b[0m\n",
            "\u001b[0;32m/usr/local/lib/python3.6/dist-packages/javalang/parser.py\u001b[0m in \u001b[0;36millegal\u001b[0;34m(self, description, at)\u001b[0m\n\u001b[1;32m    117\u001b[0m             \u001b[0mat\u001b[0m \u001b[0;34m=\u001b[0m \u001b[0mself\u001b[0m\u001b[0;34m.\u001b[0m\u001b[0mtokens\u001b[0m\u001b[0;34m.\u001b[0m\u001b[0mlook\u001b[0m\u001b[0;34m(\u001b[0m\u001b[0;34m)\u001b[0m\u001b[0;34m\u001b[0m\u001b[0;34m\u001b[0m\u001b[0m\n\u001b[1;32m    118\u001b[0m \u001b[0;34m\u001b[0m\u001b[0m\n\u001b[0;32m--> 119\u001b[0;31m         \u001b[0;32mraise\u001b[0m \u001b[0mJavaSyntaxError\u001b[0m\u001b[0;34m(\u001b[0m\u001b[0mdescription\u001b[0m\u001b[0;34m,\u001b[0m \u001b[0mat\u001b[0m\u001b[0;34m)\u001b[0m\u001b[0;34m\u001b[0m\u001b[0;34m\u001b[0m\u001b[0m\n\u001b[0m\u001b[1;32m    120\u001b[0m \u001b[0;34m\u001b[0m\u001b[0m\n\u001b[1;32m    121\u001b[0m     \u001b[0;32mdef\u001b[0m \u001b[0maccept\u001b[0m\u001b[0;34m(\u001b[0m\u001b[0mself\u001b[0m\u001b[0;34m,\u001b[0m \u001b[0;34m*\u001b[0m\u001b[0maccepts\u001b[0m\u001b[0;34m)\u001b[0m\u001b[0;34m:\u001b[0m\u001b[0;34m\u001b[0m\u001b[0;34m\u001b[0m\u001b[0m\n",
            "\u001b[0;31mJavaSyntaxError\u001b[0m: "
          ]
        }
      ]
    },
    {
      "cell_type": "code",
      "metadata": {
        "id": "Hw8DAkP42w1C",
        "colab_type": "code",
        "colab": {}
      },
      "source": [
        "# i = 0\n",
        "# for path, node in tree.filter(javalang.tree.TypeDeclaration):\n",
        "#     print(i)\n",
        "#     print(path, node)\n",
        "#     i += 1"
      ],
      "execution_count": 0,
      "outputs": []
    },
    {
      "cell_type": "code",
      "metadata": {
        "id": "vCDK0tIE3Pd3",
        "colab_type": "code",
        "colab": {}
      },
      "source": [
        ""
      ],
      "execution_count": 0,
      "outputs": []
    }
  ]
}